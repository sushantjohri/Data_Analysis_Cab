{
 "cells": [
  {
   "cell_type": "markdown",
   "metadata": {},
   "source": [
    "# PROBLEM STATEMENT-\n",
    "\n",
    "### *XRides data-set includes data for ~40,000 trips. The data-set records major elements of a trip such as the location it was booked, the time it was booked, chosen package for the trip and other features. We need to analyze this data set so that we can increase business, make life of cab-drivers more efficient and also reduce cancellation of rides.*"
   ]
  },
  {
   "cell_type": "markdown",
   "metadata": {},
   "source": [
    "# SOLUTION-\n",
    "### 1. The basic approach was to analyze the data and find locations that have highest trip booking volumes. We had 3 features that can help us identify these locations - from_area_id, from_lat and from_long. We identified that there are 598 from_area_id and XRides gains 19.07% of it's business from the area id's (393.0, 572.0 and 293.0). If XRides focuses on these three regions it can gain more business. On analyzing these 3 areas we can develope a personalized strategy for them. Further, there are heatmaps that show how time and days play an important role in cab bookings in these particular area and these heatmap would help in identifying the time domain for particular weekdays to increase business. \n",
    "\n",
    "### 2. We identified that many cabs were cancelled from_area_id (393.0 and 572.0, cancellations above 100)  these cancellation may have been caused due to locality problems or the duration of the cab to reach the location during traffic hours. These location could use increased number of cabs at peak hours. There are dataframes which show the trends of cab cancellation on the basis of time, different areas and weekdays. \n",
    "\n",
    "### *The detailed answer is at the bottom of the page* \n",
    "\n",
    "## Initial EDA ##"
   ]
  },
  {
   "cell_type": "code",
   "execution_count": 1,
   "metadata": {},
   "outputs": [],
   "source": [
    "#importing python libraries for analysis.\n",
    "import numpy as np\n",
    "import pandas as pd"
   ]
  },
  {
   "cell_type": "code",
   "execution_count": 2,
   "metadata": {},
   "outputs": [],
   "source": [
    "#importing libraries essential for plotting of data on graphs\n",
    "import matplotlib.pyplot as plt\n",
    "import seaborn as sns\n",
    "%matplotlib inline"
   ]
  },
  {
   "cell_type": "code",
   "execution_count": 3,
   "metadata": {},
   "outputs": [],
   "source": [
    "#importing data\n",
    "df = pd.read_csv('Data.csv')"
   ]
  },
  {
   "cell_type": "code",
   "execution_count": 4,
   "metadata": {
    "scrolled": true
   },
   "outputs": [
    {
     "data": {
      "text/html": [
       "<div>\n",
       "<style scoped>\n",
       "    .dataframe tbody tr th:only-of-type {\n",
       "        vertical-align: middle;\n",
       "    }\n",
       "\n",
       "    .dataframe tbody tr th {\n",
       "        vertical-align: top;\n",
       "    }\n",
       "\n",
       "    .dataframe thead th {\n",
       "        text-align: right;\n",
       "    }\n",
       "</style>\n",
       "<table border=\"1\" class=\"dataframe\">\n",
       "  <thead>\n",
       "    <tr style=\"text-align: right;\">\n",
       "      <th></th>\n",
       "      <th>id</th>\n",
       "      <th>user_id</th>\n",
       "      <th>vehicle_model_id</th>\n",
       "      <th>package_id</th>\n",
       "      <th>travel_type_id</th>\n",
       "      <th>from_area_id</th>\n",
       "      <th>to_area_id</th>\n",
       "      <th>from_city_id</th>\n",
       "      <th>to_city_id</th>\n",
       "      <th>from_date</th>\n",
       "      <th>to_date</th>\n",
       "      <th>online_booking</th>\n",
       "      <th>mobile_site_booking</th>\n",
       "      <th>booking_created</th>\n",
       "      <th>from_lat</th>\n",
       "      <th>from_long</th>\n",
       "      <th>to_lat</th>\n",
       "      <th>to_long</th>\n",
       "      <th>Car_Cancellation</th>\n",
       "    </tr>\n",
       "  </thead>\n",
       "  <tbody>\n",
       "    <tr>\n",
       "      <th>0</th>\n",
       "      <td>132512</td>\n",
       "      <td>22177</td>\n",
       "      <td>28</td>\n",
       "      <td>NaN</td>\n",
       "      <td>2</td>\n",
       "      <td>83.0</td>\n",
       "      <td>448.0</td>\n",
       "      <td>NaN</td>\n",
       "      <td>NaN</td>\n",
       "      <td>1/1/2013 2:00</td>\n",
       "      <td>NaN</td>\n",
       "      <td>0</td>\n",
       "      <td>0</td>\n",
       "      <td>1/1/2013 1:39</td>\n",
       "      <td>12.924150</td>\n",
       "      <td>77.672290</td>\n",
       "      <td>12.927320</td>\n",
       "      <td>77.635750</td>\n",
       "      <td>0</td>\n",
       "    </tr>\n",
       "    <tr>\n",
       "      <th>1</th>\n",
       "      <td>132513</td>\n",
       "      <td>21413</td>\n",
       "      <td>12</td>\n",
       "      <td>NaN</td>\n",
       "      <td>2</td>\n",
       "      <td>1010.0</td>\n",
       "      <td>540.0</td>\n",
       "      <td>NaN</td>\n",
       "      <td>NaN</td>\n",
       "      <td>1/1/2013 9:00</td>\n",
       "      <td>NaN</td>\n",
       "      <td>0</td>\n",
       "      <td>0</td>\n",
       "      <td>1/1/2013 2:25</td>\n",
       "      <td>12.966910</td>\n",
       "      <td>77.749350</td>\n",
       "      <td>12.927680</td>\n",
       "      <td>77.626640</td>\n",
       "      <td>0</td>\n",
       "    </tr>\n",
       "    <tr>\n",
       "      <th>2</th>\n",
       "      <td>132514</td>\n",
       "      <td>22178</td>\n",
       "      <td>12</td>\n",
       "      <td>NaN</td>\n",
       "      <td>2</td>\n",
       "      <td>1301.0</td>\n",
       "      <td>1034.0</td>\n",
       "      <td>NaN</td>\n",
       "      <td>NaN</td>\n",
       "      <td>1/1/2013 3:30</td>\n",
       "      <td>NaN</td>\n",
       "      <td>0</td>\n",
       "      <td>0</td>\n",
       "      <td>1/1/2013 3:08</td>\n",
       "      <td>12.937222</td>\n",
       "      <td>77.626915</td>\n",
       "      <td>13.047926</td>\n",
       "      <td>77.597766</td>\n",
       "      <td>0</td>\n",
       "    </tr>\n",
       "  </tbody>\n",
       "</table>\n",
       "</div>"
      ],
      "text/plain": [
       "       id  user_id  vehicle_model_id  package_id  travel_type_id  \\\n",
       "0  132512    22177                28         NaN               2   \n",
       "1  132513    21413                12         NaN               2   \n",
       "2  132514    22178                12         NaN               2   \n",
       "\n",
       "   from_area_id  to_area_id  from_city_id  to_city_id      from_date to_date  \\\n",
       "0          83.0       448.0           NaN         NaN  1/1/2013 2:00     NaN   \n",
       "1        1010.0       540.0           NaN         NaN  1/1/2013 9:00     NaN   \n",
       "2        1301.0      1034.0           NaN         NaN  1/1/2013 3:30     NaN   \n",
       "\n",
       "   online_booking  mobile_site_booking booking_created   from_lat  from_long  \\\n",
       "0               0                    0   1/1/2013 1:39  12.924150  77.672290   \n",
       "1               0                    0   1/1/2013 2:25  12.966910  77.749350   \n",
       "2               0                    0   1/1/2013 3:08  12.937222  77.626915   \n",
       "\n",
       "      to_lat    to_long  Car_Cancellation  \n",
       "0  12.927320  77.635750                 0  \n",
       "1  12.927680  77.626640                 0  \n",
       "2  13.047926  77.597766                 0  "
      ]
     },
     "execution_count": 4,
     "metadata": {},
     "output_type": "execute_result"
    }
   ],
   "source": [
    "df.head(3)"
   ]
  },
  {
   "cell_type": "code",
   "execution_count": 5,
   "metadata": {},
   "outputs": [
    {
     "name": "stdout",
     "output_type": "stream",
     "text": [
      "<class 'pandas.core.frame.DataFrame'>\n",
      "RangeIndex: 43431 entries, 0 to 43430\n",
      "Data columns (total 19 columns):\n",
      "id                     43431 non-null int64\n",
      "user_id                43431 non-null int64\n",
      "vehicle_model_id       43431 non-null int64\n",
      "package_id             7550 non-null float64\n",
      "travel_type_id         43431 non-null int64\n",
      "from_area_id           43343 non-null float64\n",
      "to_area_id             34293 non-null float64\n",
      "from_city_id           16345 non-null float64\n",
      "to_city_id             1588 non-null float64\n",
      "from_date              43431 non-null object\n",
      "to_date                25541 non-null object\n",
      "online_booking         43431 non-null int64\n",
      "mobile_site_booking    43431 non-null int64\n",
      "booking_created        43431 non-null object\n",
      "from_lat               43338 non-null float64\n",
      "from_long              43338 non-null float64\n",
      "to_lat                 34293 non-null float64\n",
      "to_long                34293 non-null float64\n",
      "Car_Cancellation       43431 non-null int64\n",
      "dtypes: float64(9), int64(7), object(3)\n",
      "memory usage: 6.3+ MB\n"
     ]
    }
   ],
   "source": [
    "#to check for total, missing values and data types.\n",
    "df.info()"
   ]
  },
  {
   "cell_type": "code",
   "execution_count": 6,
   "metadata": {},
   "outputs": [
    {
     "data": {
      "text/plain": [
       "598"
      ]
     },
     "execution_count": 6,
     "metadata": {},
     "output_type": "execute_result"
    }
   ],
   "source": [
    "df.from_area_id.nunique()"
   ]
  },
  {
   "cell_type": "markdown",
   "metadata": {},
   "source": [
    "### Some features like package_id, from_city_id, to_city_id, to_date and many other features (see result above) have missing values and hence not reliable for analysis."
   ]
  },
  {
   "cell_type": "markdown",
   "metadata": {},
   "source": [
    "# CONVERTING DATE "
   ]
  },
  {
   "cell_type": "code",
   "execution_count": 7,
   "metadata": {},
   "outputs": [],
   "source": [
    "#Dividing date-time to DAY of MONTH - WEEKDAY - HOUR into seperate columns \n",
    "df['from_date']=df['from_date'].map(pd.to_datetime)"
   ]
  },
  {
   "cell_type": "code",
   "execution_count": 8,
   "metadata": {},
   "outputs": [],
   "source": [
    "def get_dom(dt):\n",
    "    return dt.day\n",
    "df['dayofm']=df['from_date'].map(get_dom)"
   ]
  },
  {
   "cell_type": "code",
   "execution_count": 9,
   "metadata": {},
   "outputs": [],
   "source": [
    "def get_weekday(dt):\n",
    "    return dt.weekday()\n",
    "\n",
    "df['weekday'] = df['from_date'].map(get_weekday)"
   ]
  },
  {
   "cell_type": "code",
   "execution_count": 10,
   "metadata": {},
   "outputs": [],
   "source": [
    "def get_hour(dt):\n",
    "    return dt.hour\n",
    "df['hour']=df['from_date'].map(get_hour)"
   ]
  },
  {
   "cell_type": "code",
   "execution_count": 11,
   "metadata": {
    "scrolled": true
   },
   "outputs": [
    {
     "data": {
      "text/html": [
       "<div>\n",
       "<style scoped>\n",
       "    .dataframe tbody tr th:only-of-type {\n",
       "        vertical-align: middle;\n",
       "    }\n",
       "\n",
       "    .dataframe tbody tr th {\n",
       "        vertical-align: top;\n",
       "    }\n",
       "\n",
       "    .dataframe thead th {\n",
       "        text-align: right;\n",
       "    }\n",
       "</style>\n",
       "<table border=\"1\" class=\"dataframe\">\n",
       "  <thead>\n",
       "    <tr style=\"text-align: right;\">\n",
       "      <th></th>\n",
       "      <th>id</th>\n",
       "      <th>user_id</th>\n",
       "      <th>vehicle_model_id</th>\n",
       "      <th>package_id</th>\n",
       "      <th>travel_type_id</th>\n",
       "      <th>from_area_id</th>\n",
       "      <th>to_area_id</th>\n",
       "      <th>from_city_id</th>\n",
       "      <th>to_city_id</th>\n",
       "      <th>from_date</th>\n",
       "      <th>...</th>\n",
       "      <th>mobile_site_booking</th>\n",
       "      <th>booking_created</th>\n",
       "      <th>from_lat</th>\n",
       "      <th>from_long</th>\n",
       "      <th>to_lat</th>\n",
       "      <th>to_long</th>\n",
       "      <th>Car_Cancellation</th>\n",
       "      <th>dayofm</th>\n",
       "      <th>weekday</th>\n",
       "      <th>hour</th>\n",
       "    </tr>\n",
       "  </thead>\n",
       "  <tbody>\n",
       "    <tr>\n",
       "      <th>0</th>\n",
       "      <td>132512</td>\n",
       "      <td>22177</td>\n",
       "      <td>28</td>\n",
       "      <td>NaN</td>\n",
       "      <td>2</td>\n",
       "      <td>83.0</td>\n",
       "      <td>448.0</td>\n",
       "      <td>NaN</td>\n",
       "      <td>NaN</td>\n",
       "      <td>2013-01-01 02:00:00</td>\n",
       "      <td>...</td>\n",
       "      <td>0</td>\n",
       "      <td>1/1/2013 1:39</td>\n",
       "      <td>12.924150</td>\n",
       "      <td>77.672290</td>\n",
       "      <td>12.927320</td>\n",
       "      <td>77.635750</td>\n",
       "      <td>0</td>\n",
       "      <td>1</td>\n",
       "      <td>1</td>\n",
       "      <td>2</td>\n",
       "    </tr>\n",
       "    <tr>\n",
       "      <th>1</th>\n",
       "      <td>132513</td>\n",
       "      <td>21413</td>\n",
       "      <td>12</td>\n",
       "      <td>NaN</td>\n",
       "      <td>2</td>\n",
       "      <td>1010.0</td>\n",
       "      <td>540.0</td>\n",
       "      <td>NaN</td>\n",
       "      <td>NaN</td>\n",
       "      <td>2013-01-01 09:00:00</td>\n",
       "      <td>...</td>\n",
       "      <td>0</td>\n",
       "      <td>1/1/2013 2:25</td>\n",
       "      <td>12.966910</td>\n",
       "      <td>77.749350</td>\n",
       "      <td>12.927680</td>\n",
       "      <td>77.626640</td>\n",
       "      <td>0</td>\n",
       "      <td>1</td>\n",
       "      <td>1</td>\n",
       "      <td>9</td>\n",
       "    </tr>\n",
       "    <tr>\n",
       "      <th>2</th>\n",
       "      <td>132514</td>\n",
       "      <td>22178</td>\n",
       "      <td>12</td>\n",
       "      <td>NaN</td>\n",
       "      <td>2</td>\n",
       "      <td>1301.0</td>\n",
       "      <td>1034.0</td>\n",
       "      <td>NaN</td>\n",
       "      <td>NaN</td>\n",
       "      <td>2013-01-01 03:30:00</td>\n",
       "      <td>...</td>\n",
       "      <td>0</td>\n",
       "      <td>1/1/2013 3:08</td>\n",
       "      <td>12.937222</td>\n",
       "      <td>77.626915</td>\n",
       "      <td>13.047926</td>\n",
       "      <td>77.597766</td>\n",
       "      <td>0</td>\n",
       "      <td>1</td>\n",
       "      <td>1</td>\n",
       "      <td>3</td>\n",
       "    </tr>\n",
       "  </tbody>\n",
       "</table>\n",
       "<p>3 rows × 22 columns</p>\n",
       "</div>"
      ],
      "text/plain": [
       "       id  user_id  vehicle_model_id  package_id  travel_type_id  \\\n",
       "0  132512    22177                28         NaN               2   \n",
       "1  132513    21413                12         NaN               2   \n",
       "2  132514    22178                12         NaN               2   \n",
       "\n",
       "   from_area_id  to_area_id  from_city_id  to_city_id           from_date  \\\n",
       "0          83.0       448.0           NaN         NaN 2013-01-01 02:00:00   \n",
       "1        1010.0       540.0           NaN         NaN 2013-01-01 09:00:00   \n",
       "2        1301.0      1034.0           NaN         NaN 2013-01-01 03:30:00   \n",
       "\n",
       "   ...  mobile_site_booking  booking_created   from_lat  from_long     to_lat  \\\n",
       "0  ...                    0    1/1/2013 1:39  12.924150  77.672290  12.927320   \n",
       "1  ...                    0    1/1/2013 2:25  12.966910  77.749350  12.927680   \n",
       "2  ...                    0    1/1/2013 3:08  12.937222  77.626915  13.047926   \n",
       "\n",
       "     to_long  Car_Cancellation  dayofm  weekday  hour  \n",
       "0  77.635750                 0       1        1     2  \n",
       "1  77.626640                 0       1        1     9  \n",
       "2  77.597766                 0       1        1     3  \n",
       "\n",
       "[3 rows x 22 columns]"
      ]
     },
     "execution_count": 11,
     "metadata": {},
     "output_type": "execute_result"
    }
   ],
   "source": [
    "df.head(3)"
   ]
  },
  {
   "cell_type": "markdown",
   "metadata": {},
   "source": [
    "# CHECKING TRAFFIC BY DAY"
   ]
  },
  {
   "cell_type": "code",
   "execution_count": 12,
   "metadata": {},
   "outputs": [
    {
     "name": "stderr",
     "output_type": "stream",
     "text": [
      "C:\\Users\\Sushant\\Anaconda3\\lib\\site-packages\\matplotlib\\axes\\_axes.py:6462: UserWarning: The 'normed' kwarg is deprecated, and has been replaced by the 'density' kwarg.\n",
      "  warnings.warn(\"The 'normed' kwarg is deprecated, and has been \"\n"
     ]
    },
    {
     "data": {
      "image/png": "[encoded data removed]",
      "text/plain": [
       "<Figure size 432x288 with 1 Axes>"
      ]
     },
     "metadata": {},
     "output_type": "display_data"
    }
   ],
   "source": [
    "#Rides Taken by day\n",
    "sns.distplot(df['weekday'],kde=False);"
   ]
  },
  {
   "cell_type": "markdown",
   "metadata": {},
   "source": [
    "### From the above graph we get to know that most cabs are booked on weekends, i.e., FRIDAYs and SATURDAYs"
   ]
  },
  {
   "cell_type": "markdown",
   "metadata": {},
   "source": [
    "# COMPARING PARTICULAR FROM_AREA_ID's TIME AND DAY"
   ]
  },
  {
   "cell_type": "code",
   "execution_count": 214,
   "metadata": {},
   "outputs": [
    {
     "data": {
      "text/plain": [
       "393.0     3858\n",
       "571.0     1631\n",
       "293.0     1052\n",
       "585.0      911\n",
       "1010.0     768\n",
       "Name: from_area_id, dtype: int64"
      ]
     },
     "execution_count": 214,
     "metadata": {},
     "output_type": "execute_result"
    }
   ],
   "source": [
    "#Checking most cabs booked in particular area\n",
    "df_area.head()"
   ]
  },
  {
   "cell_type": "code",
   "execution_count": 216,
   "metadata": {},
   "outputs": [
    {
     "data": {
      "text/plain": [
       "19.073863470679147"
      ]
     },
     "execution_count": 216,
     "metadata": {},
     "output_type": "execute_result"
    }
   ],
   "source": [
    "# percentage of trips of major three areas\n",
    "((3858+1631+1052)/34293) * 100"
   ]
  },
  {
   "cell_type": "code",
   "execution_count": 218,
   "metadata": {},
   "outputs": [
    {
     "data": {
      "text/plain": [
       "11.25010935176275"
      ]
     },
     "execution_count": 218,
     "metadata": {},
     "output_type": "execute_result"
    }
   ],
   "source": [
    "# percentage of trips of major area (individual)\n",
    "(3858/34293) * 100"
   ]
  },
  {
   "cell_type": "code",
   "execution_count": 222,
   "metadata": {},
   "outputs": [
    {
     "data": {
      "text/plain": [
       "4.756072667891406"
      ]
     },
     "execution_count": 222,
     "metadata": {},
     "output_type": "execute_result"
    }
   ],
   "source": [
    "# percentage of trips of major area (individual)\n",
    "(1631/34293) * 100"
   ]
  },
  {
   "cell_type": "code",
   "execution_count": 221,
   "metadata": {},
   "outputs": [
    {
     "data": {
      "text/plain": [
       "3.0676814510249906"
      ]
     },
     "execution_count": 221,
     "metadata": {},
     "output_type": "execute_result"
    }
   ],
   "source": [
    "# percentage of trips of major area (individual)\n",
    "(1052/34293) * 100"
   ]
  },
  {
   "cell_type": "code",
   "execution_count": 207,
   "metadata": {},
   "outputs": [
    {
     "data": {
      "image/png": "[encoded data removed]",
      "text/plain": [
       "<Figure size 432x288 with 2 Axes>"
      ]
     },
     "metadata": {},
     "output_type": "display_data"
    }
   ],
   "source": [
    "#Plotting a heatmap to check cabs booked on a particular day at which time and in a PARTICULAR AREA-393.0\n",
    "df11 = df.loc[df['from_area_id'] == 393.0]\n",
    "\n",
    "def count_rows(rows):\n",
    "    return len(rows)\n",
    "\n",
    "by_date11 = df11.groupby('dayofm').apply(count_rows)\n",
    "\n",
    "by_TimeDate11 = df11.groupby('weekday hour'.split()).apply(count_rows).unstack()\n",
    "\n",
    "sns.heatmap(data=by_TimeDate11, linecolor='white',linewidths=1, cmap='YlGnBu');"
   ]
  },
  {
   "cell_type": "markdown",
   "metadata": {},
   "source": [
    "## We can make out from the heatmap that most cabs in the area_id 393.0 are booked at 23:00 and during office commute hours."
   ]
  },
  {
   "cell_type": "code",
   "execution_count": 208,
   "metadata": {},
   "outputs": [
    {
     "data": {
      "image/png": "[encoded data removed]",
      "text/plain": [
       "<Figure size 432x288 with 2 Axes>"
      ]
     },
     "metadata": {},
     "output_type": "display_data"
    }
   ],
   "source": [
    "#Plotting a heatmap to check cabs booked on a particular day at which time and in a PARTICULAR AREA- 571.0\n",
    "df12 = df.loc[df['from_area_id'] == 571.0]\n",
    "\n",
    "def count_rows(rows):\n",
    "    return len(rows)\n",
    "\n",
    "by_date12 = df12.groupby('dayofm').apply(count_rows)\n",
    "\n",
    "by_TimeDate12 = df12.groupby('weekday hour'.split()).apply(count_rows).unstack()\n",
    "\n",
    "sns.heatmap(data=by_TimeDate12, linecolor='white',linewidths=1, cmap='YlGnBu');"
   ]
  },
  {
   "cell_type": "markdown",
   "metadata": {},
   "source": [
    "## We can make out of the heatmap that most cabs in the area_id 571.0 are booked at 6:00 and during office commute hours."
   ]
  },
  {
   "cell_type": "code",
   "execution_count": 204,
   "metadata": {},
   "outputs": [
    {
     "data": {
      "image/png": "[encoded data removed]",
      "text/plain": [
       "<Figure size 432x288 with 2 Axes>"
      ]
     },
     "metadata": {},
     "output_type": "display_data"
    }
   ],
   "source": [
    "#Plotting a heatmap to check cabs booked on a particular day at which time and in a PARTICULAR AREA-293.0\n",
    "df13 = df.loc[df['from_area_id'] == 293.0]\n",
    "\n",
    "def count_rows(rows):\n",
    "    return len(rows)\n",
    "\n",
    "by_date13 = df13.groupby('dayofm').apply(count_rows)\n",
    "\n",
    "by_TimeDate13 = df13.groupby('weekday hour'.split()).apply(count_rows).unstack()\n",
    "\n",
    "by_TimeDate13\n",
    "\n",
    "sns.heatmap(data=by_TimeDate13, linecolor='white',linewidths=1, cmap='YlGnBu');"
   ]
  },
  {
   "cell_type": "markdown",
   "metadata": {},
   "source": [
    "## We can make out of the heatmap that most cabs in the area_id 293.0 are booked during office commute hours."
   ]
  },
  {
   "cell_type": "markdown",
   "metadata": {},
   "source": [
    "# CHECKING TRAFFIC BY HOUR"
   ]
  },
  {
   "cell_type": "code",
   "execution_count": 13,
   "metadata": {},
   "outputs": [],
   "source": [
    "#Rides Taken by hour\n",
    "df_hour= df.hour.value_counts()"
   ]
  },
  {
   "cell_type": "code",
   "execution_count": 14,
   "metadata": {},
   "outputs": [
    {
     "data": {
      "image/png": "[encoded data removed]",
      "text/plain": [
       "<Figure size 432x288 with 1 Axes>"
      ]
     },
     "metadata": {},
     "output_type": "display_data"
    }
   ],
   "source": [
    "df_hour.plot(kind='bar',colormap='coolwarm').set_title(' Traffic-Time');"
   ]
  },
  {
   "cell_type": "markdown",
   "metadata": {},
   "source": [
    "### The graph above clearly shows that most rides are taken during the office hours i.e., between 8:00-9:59 and during the evening between 17:00-18:59"
   ]
  },
  {
   "cell_type": "markdown",
   "metadata": {},
   "source": [
    "# CHECKING TRAFFIC BY DAY AND HOUR"
   ]
  },
  {
   "cell_type": "code",
   "execution_count": 177,
   "metadata": {},
   "outputs": [],
   "source": [
    "def count_rows(rows):\n",
    "    return len(rows)\n",
    "\n",
    "by_date = df.groupby('dayofm').apply(count_rows)"
   ]
  },
  {
   "cell_type": "code",
   "execution_count": 178,
   "metadata": {},
   "outputs": [],
   "source": [
    "by_TimeDate = df.groupby('weekday hour'.split()).apply(count_rows).unstack()"
   ]
  },
  {
   "cell_type": "code",
   "execution_count": 179,
   "metadata": {},
   "outputs": [
    {
     "data": {
      "text/html": [
       "<div>\n",
       "<style scoped>\n",
       "    .dataframe tbody tr th:only-of-type {\n",
       "        vertical-align: middle;\n",
       "    }\n",
       "\n",
       "    .dataframe tbody tr th {\n",
       "        vertical-align: top;\n",
       "    }\n",
       "\n",
       "    .dataframe thead th {\n",
       "        text-align: right;\n",
       "    }\n",
       "</style>\n",
       "<table border=\"1\" class=\"dataframe\">\n",
       "  <thead>\n",
       "    <tr style=\"text-align: right;\">\n",
       "      <th>hour</th>\n",
       "      <th>0</th>\n",
       "      <th>1</th>\n",
       "      <th>2</th>\n",
       "      <th>3</th>\n",
       "      <th>4</th>\n",
       "      <th>5</th>\n",
       "      <th>6</th>\n",
       "      <th>7</th>\n",
       "      <th>8</th>\n",
       "      <th>9</th>\n",
       "      <th>...</th>\n",
       "      <th>14</th>\n",
       "      <th>15</th>\n",
       "      <th>16</th>\n",
       "      <th>17</th>\n",
       "      <th>18</th>\n",
       "      <th>19</th>\n",
       "      <th>20</th>\n",
       "      <th>21</th>\n",
       "      <th>22</th>\n",
       "      <th>23</th>\n",
       "    </tr>\n",
       "    <tr>\n",
       "      <th>weekday</th>\n",
       "      <th></th>\n",
       "      <th></th>\n",
       "      <th></th>\n",
       "      <th></th>\n",
       "      <th></th>\n",
       "      <th></th>\n",
       "      <th></th>\n",
       "      <th></th>\n",
       "      <th></th>\n",
       "      <th></th>\n",
       "      <th></th>\n",
       "      <th></th>\n",
       "      <th></th>\n",
       "      <th></th>\n",
       "      <th></th>\n",
       "      <th></th>\n",
       "      <th></th>\n",
       "      <th></th>\n",
       "      <th></th>\n",
       "      <th></th>\n",
       "      <th></th>\n",
       "    </tr>\n",
       "  </thead>\n",
       "  <tbody>\n",
       "    <tr>\n",
       "      <th>0</th>\n",
       "      <td>71</td>\n",
       "      <td>64</td>\n",
       "      <td>70</td>\n",
       "      <td>237</td>\n",
       "      <td>301</td>\n",
       "      <td>276</td>\n",
       "      <td>342</td>\n",
       "      <td>407</td>\n",
       "      <td>530</td>\n",
       "      <td>460</td>\n",
       "      <td>...</td>\n",
       "      <td>217</td>\n",
       "      <td>184</td>\n",
       "      <td>220</td>\n",
       "      <td>371</td>\n",
       "      <td>353</td>\n",
       "      <td>237</td>\n",
       "      <td>207</td>\n",
       "      <td>151</td>\n",
       "      <td>156</td>\n",
       "      <td>133</td>\n",
       "    </tr>\n",
       "    <tr>\n",
       "      <th>1</th>\n",
       "      <td>85</td>\n",
       "      <td>50</td>\n",
       "      <td>61</td>\n",
       "      <td>212</td>\n",
       "      <td>217</td>\n",
       "      <td>194</td>\n",
       "      <td>226</td>\n",
       "      <td>346</td>\n",
       "      <td>452</td>\n",
       "      <td>444</td>\n",
       "      <td>...</td>\n",
       "      <td>166</td>\n",
       "      <td>172</td>\n",
       "      <td>262</td>\n",
       "      <td>409</td>\n",
       "      <td>375</td>\n",
       "      <td>244</td>\n",
       "      <td>211</td>\n",
       "      <td>183</td>\n",
       "      <td>143</td>\n",
       "      <td>139</td>\n",
       "    </tr>\n",
       "    <tr>\n",
       "      <th>2</th>\n",
       "      <td>61</td>\n",
       "      <td>44</td>\n",
       "      <td>73</td>\n",
       "      <td>211</td>\n",
       "      <td>212</td>\n",
       "      <td>187</td>\n",
       "      <td>253</td>\n",
       "      <td>374</td>\n",
       "      <td>466</td>\n",
       "      <td>476</td>\n",
       "      <td>...</td>\n",
       "      <td>180</td>\n",
       "      <td>200</td>\n",
       "      <td>318</td>\n",
       "      <td>406</td>\n",
       "      <td>358</td>\n",
       "      <td>247</td>\n",
       "      <td>236</td>\n",
       "      <td>181</td>\n",
       "      <td>184</td>\n",
       "      <td>146</td>\n",
       "    </tr>\n",
       "    <tr>\n",
       "      <th>3</th>\n",
       "      <td>73</td>\n",
       "      <td>41</td>\n",
       "      <td>67</td>\n",
       "      <td>226</td>\n",
       "      <td>262</td>\n",
       "      <td>290</td>\n",
       "      <td>259</td>\n",
       "      <td>347</td>\n",
       "      <td>489</td>\n",
       "      <td>464</td>\n",
       "      <td>...</td>\n",
       "      <td>172</td>\n",
       "      <td>196</td>\n",
       "      <td>262</td>\n",
       "      <td>430</td>\n",
       "      <td>373</td>\n",
       "      <td>293</td>\n",
       "      <td>253</td>\n",
       "      <td>219</td>\n",
       "      <td>230</td>\n",
       "      <td>140</td>\n",
       "    </tr>\n",
       "    <tr>\n",
       "      <th>4</th>\n",
       "      <td>82</td>\n",
       "      <td>48</td>\n",
       "      <td>76</td>\n",
       "      <td>270</td>\n",
       "      <td>265</td>\n",
       "      <td>245</td>\n",
       "      <td>308</td>\n",
       "      <td>350</td>\n",
       "      <td>490</td>\n",
       "      <td>448</td>\n",
       "      <td>...</td>\n",
       "      <td>230</td>\n",
       "      <td>248</td>\n",
       "      <td>345</td>\n",
       "      <td>461</td>\n",
       "      <td>478</td>\n",
       "      <td>385</td>\n",
       "      <td>321</td>\n",
       "      <td>301</td>\n",
       "      <td>300</td>\n",
       "      <td>230</td>\n",
       "    </tr>\n",
       "    <tr>\n",
       "      <th>5</th>\n",
       "      <td>120</td>\n",
       "      <td>74</td>\n",
       "      <td>105</td>\n",
       "      <td>359</td>\n",
       "      <td>390</td>\n",
       "      <td>337</td>\n",
       "      <td>420</td>\n",
       "      <td>352</td>\n",
       "      <td>387</td>\n",
       "      <td>411</td>\n",
       "      <td>...</td>\n",
       "      <td>268</td>\n",
       "      <td>297</td>\n",
       "      <td>312</td>\n",
       "      <td>300</td>\n",
       "      <td>314</td>\n",
       "      <td>315</td>\n",
       "      <td>293</td>\n",
       "      <td>253</td>\n",
       "      <td>211</td>\n",
       "      <td>237</td>\n",
       "    </tr>\n",
       "    <tr>\n",
       "      <th>6</th>\n",
       "      <td>112</td>\n",
       "      <td>74</td>\n",
       "      <td>64</td>\n",
       "      <td>233</td>\n",
       "      <td>305</td>\n",
       "      <td>277</td>\n",
       "      <td>336</td>\n",
       "      <td>353</td>\n",
       "      <td>334</td>\n",
       "      <td>332</td>\n",
       "      <td>...</td>\n",
       "      <td>253</td>\n",
       "      <td>234</td>\n",
       "      <td>278</td>\n",
       "      <td>309</td>\n",
       "      <td>296</td>\n",
       "      <td>259</td>\n",
       "      <td>249</td>\n",
       "      <td>205</td>\n",
       "      <td>246</td>\n",
       "      <td>203</td>\n",
       "    </tr>\n",
       "  </tbody>\n",
       "</table>\n",
       "<p>7 rows × 24 columns</p>\n",
       "</div>"
      ],
      "text/plain": [
       "hour      0   1    2    3    4    5    6    7    8    9  ...    14   15   16  \\\n",
       "weekday                                                  ...                   \n",
       "0         71  64   70  237  301  276  342  407  530  460 ...   217  184  220   \n",
       "1         85  50   61  212  217  194  226  346  452  444 ...   166  172  262   \n",
       "2         61  44   73  211  212  187  253  374  466  476 ...   180  200  318   \n",
       "3         73  41   67  226  262  290  259  347  489  464 ...   172  196  262   \n",
       "4         82  48   76  270  265  245  308  350  490  448 ...   230  248  345   \n",
       "5        120  74  105  359  390  337  420  352  387  411 ...   268  297  312   \n",
       "6        112  74   64  233  305  277  336  353  334  332 ...   253  234  278   \n",
       "\n",
       "hour      17   18   19   20   21   22   23  \n",
       "weekday                                     \n",
       "0        371  353  237  207  151  156  133  \n",
       "1        409  375  244  211  183  143  139  \n",
       "2        406  358  247  236  181  184  146  \n",
       "3        430  373  293  253  219  230  140  \n",
       "4        461  478  385  321  301  300  230  \n",
       "5        300  314  315  293  253  211  237  \n",
       "6        309  296  259  249  205  246  203  \n",
       "\n",
       "[7 rows x 24 columns]"
      ]
     },
     "execution_count": 179,
     "metadata": {},
     "output_type": "execute_result"
    }
   ],
   "source": [
    "by_TimeDate"
   ]
  },
  {
   "cell_type": "code",
   "execution_count": 18,
   "metadata": {
    "scrolled": false
   },
   "outputs": [
    {
     "data": {
      "image/png": "[encoded data removed]",
      "text/plain": [
       "<Figure size 432x288 with 2 Axes>"
      ]
     },
     "metadata": {},
     "output_type": "display_data"
    }
   ],
   "source": [
    "#plotting a heatmap to see when and at which day there's more traffic compared to others\n",
    "sns.heatmap(data=by_TimeDate, linecolor='white',linewidths=1, cmap='YlGnBu');"
   ]
  },
  {
   "cell_type": "markdown",
   "metadata": {},
   "source": [
    "### The above heatmap basically depicts the number of cabs that are booked on each day and on which time. Through this graph we infer that most cabs are booked during the office commute hours, except on Saturdays and Sundays."
   ]
  },
  {
   "cell_type": "markdown",
   "metadata": {},
   "source": [
    "# CHECKING TRAFFIC BY LONG AND LAT"
   ]
  },
  {
   "cell_type": "code",
   "execution_count": 59,
   "metadata": {},
   "outputs": [
    {
     "data": {
      "text/plain": [
       "from_lat     466\n",
       "from_long    462\n",
       "dtype: int64"
      ]
     },
     "execution_count": 59,
     "metadata": {},
     "output_type": "execute_result"
    }
   ],
   "source": [
    "#Checking unique values in from_lat and from_long.\n",
    "df[['from_lat', 'from_long']].nunique()"
   ]
  },
  {
   "cell_type": "code",
   "execution_count": 62,
   "metadata": {},
   "outputs": [],
   "source": [
    "#Creating a dummy table with latitude, longitude and a Unique id.\n",
    "a = pd.DataFrame(df.groupby(['from_lat', 'from_long'])['id'].count())"
   ]
  },
  {
   "cell_type": "code",
   "execution_count": 63,
   "metadata": {},
   "outputs": [],
   "source": [
    "# combine lat and long (from) to get the specific location of the place\n",
    "df['from_lat_long'] = df['from_lat'].astype(str)+\",\"+df['from_long'].astype(str)"
   ]
  },
  {
   "cell_type": "markdown",
   "metadata": {},
   "source": [
    "### *CREATING DUMMY LOCATION AND PROVIDING THEM A NAME*"
   ]
  },
  {
   "cell_type": "code",
   "execution_count": 64,
   "metadata": {},
   "outputs": [],
   "source": [
    "# adding a name to each location\n",
    "dummy_location = []\n",
    "for i in range(0,467):\n",
    "    x = 'Loc'+'-'+str(i)\n",
    "    dummy_location.append(x)"
   ]
  },
  {
   "cell_type": "code",
   "execution_count": 23,
   "metadata": {},
   "outputs": [],
   "source": [
    "#df_final = pd.merge(df, df1)\n",
    "b = a.reset_index()\n",
    "df1 = b[['from_lat', 'from_long']]\n",
    "df1['dummy_loc'] = pd.Series(dummy_location).values"
   ]
  },
  {
   "cell_type": "code",
   "execution_count": 24,
   "metadata": {},
   "outputs": [
    {
     "data": {
      "text/html": [
       "<div>\n",
       "<style scoped>\n",
       "    .dataframe tbody tr th:only-of-type {\n",
       "        vertical-align: middle;\n",
       "    }\n",
       "\n",
       "    .dataframe tbody tr th {\n",
       "        vertical-align: top;\n",
       "    }\n",
       "\n",
       "    .dataframe thead th {\n",
       "        text-align: right;\n",
       "    }\n",
       "</style>\n",
       "<table border=\"1\" class=\"dataframe\">\n",
       "  <thead>\n",
       "    <tr style=\"text-align: right;\">\n",
       "      <th></th>\n",
       "      <th>from_lat</th>\n",
       "      <th>from_long</th>\n",
       "      <th>dummy_loc</th>\n",
       "    </tr>\n",
       "  </thead>\n",
       "  <tbody>\n",
       "    <tr>\n",
       "      <th>0</th>\n",
       "      <td>12.77663</td>\n",
       "      <td>77.56382</td>\n",
       "      <td>Loc-0</td>\n",
       "    </tr>\n",
       "    <tr>\n",
       "      <th>1</th>\n",
       "      <td>12.78091</td>\n",
       "      <td>77.77131</td>\n",
       "      <td>Loc-1</td>\n",
       "    </tr>\n",
       "    <tr>\n",
       "      <th>2</th>\n",
       "      <td>12.78665</td>\n",
       "      <td>77.63761</td>\n",
       "      <td>Loc-2</td>\n",
       "    </tr>\n",
       "    <tr>\n",
       "      <th>3</th>\n",
       "      <td>12.79665</td>\n",
       "      <td>77.38693</td>\n",
       "      <td>Loc-3</td>\n",
       "    </tr>\n",
       "    <tr>\n",
       "      <th>4</th>\n",
       "      <td>12.80257</td>\n",
       "      <td>77.70453</td>\n",
       "      <td>Loc-4</td>\n",
       "    </tr>\n",
       "  </tbody>\n",
       "</table>\n",
       "</div>"
      ],
      "text/plain": [
       "   from_lat  from_long dummy_loc\n",
       "0  12.77663   77.56382     Loc-0\n",
       "1  12.78091   77.77131     Loc-1\n",
       "2  12.78665   77.63761     Loc-2\n",
       "3  12.79665   77.38693     Loc-3\n",
       "4  12.80257   77.70453     Loc-4"
      ]
     },
     "execution_count": 24,
     "metadata": {},
     "output_type": "execute_result"
    }
   ],
   "source": [
    "df1.head()"
   ]
  },
  {
   "cell_type": "code",
   "execution_count": 25,
   "metadata": {},
   "outputs": [],
   "source": [
    "#get the location on the original dataset\n",
    "df_final = pd.merge(df, df1, on = ['from_lat', 'from_long'], how = 'left')"
   ]
  },
  {
   "cell_type": "code",
   "execution_count": 67,
   "metadata": {},
   "outputs": [],
   "source": [
    "#to check now, which columns exist in the dataframe\n",
    "colnames = df_final.columns"
   ]
  },
  {
   "cell_type": "code",
   "execution_count": 103,
   "metadata": {},
   "outputs": [
    {
     "data": {
      "text/plain": [
       "Index(['id', 'user_id', 'vehicle_model_id', 'package_id', 'travel_type_id',\n",
       "       'from_area_id', 'to_area_id', 'from_city_id', 'to_city_id', 'from_date',\n",
       "       'to_date', 'online_booking', 'mobile_site_booking', 'booking_created',\n",
       "       'from_lat', 'from_long', 'to_lat', 'to_long', 'Car_Cancellation',\n",
       "       'dayofm', 'weekday', 'hour', 'from_lat_long', 'dummy_loc'],\n",
       "      dtype='object')"
      ]
     },
     "execution_count": 103,
     "metadata": {},
     "output_type": "execute_result"
    }
   ],
   "source": [
    "#to check now, which columns exist in the dataframe\n",
    "colnames"
   ]
  },
  {
   "cell_type": "markdown",
   "metadata": {},
   "source": [
    "# CHECKING TRAFFIC BY LOCATION AND WEEKDAY"
   ]
  },
  {
   "cell_type": "code",
   "execution_count": 151,
   "metadata": {},
   "outputs": [],
   "source": [
    "#Creating a dataframe for distinguishing LOCATION and WEEKDAY from others\n",
    "df_analysis1 = df_final[['id', 'from_area_id', 'weekday','dummy_loc']]"
   ]
  },
  {
   "cell_type": "code",
   "execution_count": 152,
   "metadata": {},
   "outputs": [],
   "source": [
    "#assigning the values in df_analysis1 a Unique ID.\n",
    "df_analysis1_1 = df_analysis1.groupby(['from_area_id','weekday', 'dummy_loc'])['id'].count().reset_index()"
   ]
  },
  {
   "cell_type": "code",
   "execution_count": 153,
   "metadata": {},
   "outputs": [],
   "source": [
    "#Assigning column names in the data frame.\n",
    "df_analysis1_1.columns = ['from_area_id','weekday','dummy_loc', 'counts']"
   ]
  },
  {
   "cell_type": "code",
   "execution_count": 154,
   "metadata": {},
   "outputs": [
    {
     "data": {
      "text/html": [
       "<div>\n",
       "<style scoped>\n",
       "    .dataframe tbody tr th:only-of-type {\n",
       "        vertical-align: middle;\n",
       "    }\n",
       "\n",
       "    .dataframe tbody tr th {\n",
       "        vertical-align: top;\n",
       "    }\n",
       "\n",
       "    .dataframe thead th {\n",
       "        text-align: right;\n",
       "    }\n",
       "</style>\n",
       "<table border=\"1\" class=\"dataframe\">\n",
       "  <thead>\n",
       "    <tr style=\"text-align: right;\">\n",
       "      <th></th>\n",
       "      <th>from_area_id</th>\n",
       "      <th>weekday</th>\n",
       "      <th>dummy_loc</th>\n",
       "      <th>counts</th>\n",
       "    </tr>\n",
       "  </thead>\n",
       "  <tbody>\n",
       "    <tr>\n",
       "      <th>747</th>\n",
       "      <td>393.0</td>\n",
       "      <td>6</td>\n",
       "      <td>Loc-462</td>\n",
       "      <td>680</td>\n",
       "    </tr>\n",
       "    <tr>\n",
       "      <th>741</th>\n",
       "      <td>393.0</td>\n",
       "      <td>0</td>\n",
       "      <td>Loc-462</td>\n",
       "      <td>610</td>\n",
       "    </tr>\n",
       "    <tr>\n",
       "      <th>745</th>\n",
       "      <td>393.0</td>\n",
       "      <td>4</td>\n",
       "      <td>Loc-462</td>\n",
       "      <td>575</td>\n",
       "    </tr>\n",
       "    <tr>\n",
       "      <th>746</th>\n",
       "      <td>393.0</td>\n",
       "      <td>5</td>\n",
       "      <td>Loc-462</td>\n",
       "      <td>563</td>\n",
       "    </tr>\n",
       "    <tr>\n",
       "      <th>744</th>\n",
       "      <td>393.0</td>\n",
       "      <td>3</td>\n",
       "      <td>Loc-462</td>\n",
       "      <td>490</td>\n",
       "    </tr>\n",
       "    <tr>\n",
       "      <th>743</th>\n",
       "      <td>393.0</td>\n",
       "      <td>2</td>\n",
       "      <td>Loc-462</td>\n",
       "      <td>481</td>\n",
       "    </tr>\n",
       "    <tr>\n",
       "      <th>742</th>\n",
       "      <td>393.0</td>\n",
       "      <td>1</td>\n",
       "      <td>Loc-462</td>\n",
       "      <td>459</td>\n",
       "    </tr>\n",
       "    <tr>\n",
       "      <th>1084</th>\n",
       "      <td>571.0</td>\n",
       "      <td>5</td>\n",
       "      <td>Loc-168</td>\n",
       "      <td>301</td>\n",
       "    </tr>\n",
       "    <tr>\n",
       "      <th>1083</th>\n",
       "      <td>571.0</td>\n",
       "      <td>4</td>\n",
       "      <td>Loc-168</td>\n",
       "      <td>256</td>\n",
       "    </tr>\n",
       "    <tr>\n",
       "      <th>1082</th>\n",
       "      <td>571.0</td>\n",
       "      <td>3</td>\n",
       "      <td>Loc-168</td>\n",
       "      <td>240</td>\n",
       "    </tr>\n",
       "  </tbody>\n",
       "</table>\n",
       "</div>"
      ],
      "text/plain": [
       "      from_area_id  weekday dummy_loc  counts\n",
       "747          393.0        6   Loc-462     680\n",
       "741          393.0        0   Loc-462     610\n",
       "745          393.0        4   Loc-462     575\n",
       "746          393.0        5   Loc-462     563\n",
       "744          393.0        3   Loc-462     490\n",
       "743          393.0        2   Loc-462     481\n",
       "742          393.0        1   Loc-462     459\n",
       "1084         571.0        5   Loc-168     301\n",
       "1083         571.0        4   Loc-168     256\n",
       "1082         571.0        3   Loc-168     240"
      ]
     },
     "execution_count": 154,
     "metadata": {},
     "output_type": "execute_result"
    }
   ],
   "source": [
    "#sorting values as needed.\n",
    "df_analysis1_1.sort_values('counts',  ascending = False).head(10)"
   ]
  },
  {
   "cell_type": "code",
   "execution_count": 155,
   "metadata": {},
   "outputs": [
    {
     "data": {
      "text/plain": [
       "from_lat     13.1996\n",
       "from_long    77.7069\n",
       "dummy_loc    Loc-462\n",
       "Name: 462, dtype: object"
      ]
     },
     "execution_count": 155,
     "metadata": {},
     "output_type": "execute_result"
    }
   ],
   "source": [
    "#Checking the lat and long on the particular location.\n",
    "df1.iloc[462]"
   ]
  },
  {
   "cell_type": "markdown",
   "metadata": {},
   "source": [
    "### From the above TABLE we infer that most cabs were booked from_area_id 393.0 on Loc-462(Lat-13.1996 , Long-77.7069)"
   ]
  },
  {
   "cell_type": "markdown",
   "metadata": {},
   "source": [
    "# CHECKING TRAFFIC BY LOCATION & HOUR"
   ]
  },
  {
   "cell_type": "code",
   "execution_count": 32,
   "metadata": {},
   "outputs": [],
   "source": [
    "#Creating a dataframe for distinguishing LOCATION and HOUR from others\n",
    "df_analysis2 = df_final[['id', 'hour', 'dummy_loc']]"
   ]
  },
  {
   "cell_type": "code",
   "execution_count": 75,
   "metadata": {},
   "outputs": [],
   "source": [
    "#assigning the values in df_analysis2 a Unique ID.\n",
    "df_analysis2_1 = df_analysis2.groupby(['hour', 'dummy_loc'])['id'].count().reset_index()"
   ]
  },
  {
   "cell_type": "code",
   "execution_count": 34,
   "metadata": {},
   "outputs": [],
   "source": [
    "#Assigning column names in the data frame.\n",
    "df_analysis2_1.columns = ['hour','dummy_loc', 'counts']"
   ]
  },
  {
   "cell_type": "code",
   "execution_count": 56,
   "metadata": {},
   "outputs": [
    {
     "data": {
      "text/html": [
       "<div>\n",
       "<style scoped>\n",
       "    .dataframe tbody tr th:only-of-type {\n",
       "        vertical-align: middle;\n",
       "    }\n",
       "\n",
       "    .dataframe tbody tr th {\n",
       "        vertical-align: top;\n",
       "    }\n",
       "\n",
       "    .dataframe thead th {\n",
       "        text-align: right;\n",
       "    }\n",
       "</style>\n",
       "<table border=\"1\" class=\"dataframe\">\n",
       "  <thead>\n",
       "    <tr style=\"text-align: right;\">\n",
       "      <th></th>\n",
       "      <th>hour</th>\n",
       "      <th>dummy_loc</th>\n",
       "      <th>counts</th>\n",
       "    </tr>\n",
       "  </thead>\n",
       "  <tbody>\n",
       "    <tr>\n",
       "      <th>6522</th>\n",
       "      <td>23</td>\n",
       "      <td>Loc-462</td>\n",
       "      <td>378</td>\n",
       "    </tr>\n",
       "    <tr>\n",
       "      <th>6281</th>\n",
       "      <td>22</td>\n",
       "      <td>Loc-462</td>\n",
       "      <td>320</td>\n",
       "    </tr>\n",
       "    <tr>\n",
       "      <th>2501</th>\n",
       "      <td>9</td>\n",
       "      <td>Loc-462</td>\n",
       "      <td>307</td>\n",
       "    </tr>\n",
       "    <tr>\n",
       "      <th>3380</th>\n",
       "      <td>12</td>\n",
       "      <td>Loc-462</td>\n",
       "      <td>287</td>\n",
       "    </tr>\n",
       "    <tr>\n",
       "      <th>5760</th>\n",
       "      <td>20</td>\n",
       "      <td>Loc-462</td>\n",
       "      <td>255</td>\n",
       "    </tr>\n",
       "  </tbody>\n",
       "</table>\n",
       "</div>"
      ],
      "text/plain": [
       "      hour dummy_loc  counts\n",
       "6522    23   Loc-462     378\n",
       "6281    22   Loc-462     320\n",
       "2501     9   Loc-462     307\n",
       "3380    12   Loc-462     287\n",
       "5760    20   Loc-462     255"
      ]
     },
     "execution_count": 56,
     "metadata": {},
     "output_type": "execute_result"
    }
   ],
   "source": [
    "#sorting values as needed.\n",
    "df_analysis2_1.sort_values(by = 'counts', ascending = False).head()"
   ]
  },
  {
   "cell_type": "code",
   "execution_count": 73,
   "metadata": {},
   "outputs": [
    {
     "data": {
      "text/plain": [
       "from_lat     13.1996\n",
       "from_long    77.7069\n",
       "dummy_loc    Loc-462\n",
       "Name: 462, dtype: object"
      ]
     },
     "execution_count": 73,
     "metadata": {},
     "output_type": "execute_result"
    }
   ],
   "source": [
    "#Checking the lat and long on the particular location.\n",
    "df1.iloc[462]"
   ]
  },
  {
   "cell_type": "markdown",
   "metadata": {},
   "source": [
    "### The above table shows us that most cabs were booked at Loc-462(Lat-13.1996 , Long-77.7069) At 23:00."
   ]
  },
  {
   "cell_type": "markdown",
   "metadata": {},
   "source": [
    "# CHECKING TRAFFIC BY LOCATION, HOUR & WEEKDAY"
   ]
  },
  {
   "cell_type": "code",
   "execution_count": 82,
   "metadata": {},
   "outputs": [],
   "source": [
    "#Creating a dataframe for distinguishing LOCATION, HOUR and WEEKDAY from others\n",
    "df_analysis3 = df_final[['id', 'weekday', 'hour', 'dummy_loc']]"
   ]
  },
  {
   "cell_type": "code",
   "execution_count": 83,
   "metadata": {},
   "outputs": [],
   "source": [
    "#assigning the values in df_analysis3 a Unique ID.\n",
    "df_analysis3_1 = df_analysis3.groupby(['weekday', 'hour','dummy_loc'])['id'].count().reset_index()"
   ]
  },
  {
   "cell_type": "code",
   "execution_count": 84,
   "metadata": {},
   "outputs": [],
   "source": [
    "#Assigning column names in the data frame.\n",
    "df_analysis3_1.columns = ['weekday','hour' , 'dummy_loc', 'counts' ]"
   ]
  },
  {
   "cell_type": "code",
   "execution_count": 85,
   "metadata": {},
   "outputs": [
    {
     "data": {
      "text/html": [
       "<div>\n",
       "<style scoped>\n",
       "    .dataframe tbody tr th:only-of-type {\n",
       "        vertical-align: middle;\n",
       "    }\n",
       "\n",
       "    .dataframe tbody tr th {\n",
       "        vertical-align: top;\n",
       "    }\n",
       "\n",
       "    .dataframe thead th {\n",
       "        text-align: right;\n",
       "    }\n",
       "</style>\n",
       "<table border=\"1\" class=\"dataframe\">\n",
       "  <thead>\n",
       "    <tr style=\"text-align: right;\">\n",
       "      <th></th>\n",
       "      <th>weekday</th>\n",
       "      <th>hour</th>\n",
       "      <th>dummy_loc</th>\n",
       "      <th>counts</th>\n",
       "    </tr>\n",
       "  </thead>\n",
       "  <tbody>\n",
       "    <tr>\n",
       "      <th>19117</th>\n",
       "      <td>6</td>\n",
       "      <td>23</td>\n",
       "      <td>Loc-462</td>\n",
       "      <td>86</td>\n",
       "    </tr>\n",
       "    <tr>\n",
       "      <th>2540</th>\n",
       "      <td>0</td>\n",
       "      <td>23</td>\n",
       "      <td>Loc-462</td>\n",
       "      <td>68</td>\n",
       "    </tr>\n",
       "    <tr>\n",
       "      <th>17821</th>\n",
       "      <td>6</td>\n",
       "      <td>12</td>\n",
       "      <td>Loc-462</td>\n",
       "      <td>62</td>\n",
       "    </tr>\n",
       "    <tr>\n",
       "      <th>18831</th>\n",
       "      <td>6</td>\n",
       "      <td>20</td>\n",
       "      <td>Loc-462</td>\n",
       "      <td>60</td>\n",
       "    </tr>\n",
       "    <tr>\n",
       "      <th>19030</th>\n",
       "      <td>6</td>\n",
       "      <td>22</td>\n",
       "      <td>Loc-462</td>\n",
       "      <td>57</td>\n",
       "    </tr>\n",
       "  </tbody>\n",
       "</table>\n",
       "</div>"
      ],
      "text/plain": [
       "       weekday  hour dummy_loc  counts\n",
       "19117        6    23   Loc-462      86\n",
       "2540         0    23   Loc-462      68\n",
       "17821        6    12   Loc-462      62\n",
       "18831        6    20   Loc-462      60\n",
       "19030        6    22   Loc-462      57"
      ]
     },
     "execution_count": 85,
     "metadata": {},
     "output_type": "execute_result"
    }
   ],
   "source": [
    "#sorting values as needed.\n",
    "df_analysis3_1.sort_values(by = 'counts', ascending = False).head()"
   ]
  },
  {
   "cell_type": "code",
   "execution_count": 86,
   "metadata": {},
   "outputs": [
    {
     "data": {
      "text/plain": [
       "from_lat     13.1996\n",
       "from_long    77.7069\n",
       "dummy_loc    Loc-462\n",
       "Name: 462, dtype: object"
      ]
     },
     "execution_count": 86,
     "metadata": {},
     "output_type": "execute_result"
    }
   ],
   "source": [
    "#Checking the lat and long on the particular location.\n",
    "df1.iloc[462]"
   ]
  },
  {
   "cell_type": "markdown",
   "metadata": {},
   "source": [
    "### The above table shows us that most cabs were booked at Loc-462(Lat-13.1996 , Long-77.7069) At 23:00 on a Sunday."
   ]
  },
  {
   "cell_type": "markdown",
   "metadata": {},
   "source": [
    "\n",
    "\n"
   ]
  },
  {
   "cell_type": "markdown",
   "metadata": {},
   "source": [
    "## CHECKING CANCELLATION ON THE BASIS OF FROM_AREA_ID"
   ]
  },
  {
   "cell_type": "code",
   "execution_count": 87,
   "metadata": {},
   "outputs": [
    {
     "data": {
      "text/plain": [
       "0    40299\n",
       "1     3132\n",
       "Name: Car_Cancellation, dtype: int64"
      ]
     },
     "execution_count": 87,
     "metadata": {},
     "output_type": "execute_result"
    }
   ],
   "source": [
    "#information about car cancellation.\n",
    "df.Car_Cancellation.value_counts()"
   ]
  },
  {
   "cell_type": "code",
   "execution_count": 88,
   "metadata": {},
   "outputs": [],
   "source": [
    "#Creating a dataframe for distinguishing CAR_CANCELLATION & FROM_AREA_ID from others\n",
    "df_analysis6 = df_final[['id', 'Car_Cancellation', 'from_area_id']]"
   ]
  },
  {
   "cell_type": "code",
   "execution_count": 89,
   "metadata": {},
   "outputs": [],
   "source": [
    "#assigning the values in df_analysis6 a Unique ID.\n",
    "df_analysis6_1 = df_analysis6.groupby(['Car_Cancellation', 'from_area_id'])['id'].count().reset_index()"
   ]
  },
  {
   "cell_type": "code",
   "execution_count": 90,
   "metadata": {},
   "outputs": [],
   "source": [
    "#Assigning column names in the data frame.\n",
    "df_analysis6_1.columns = ['Car_Cancellation', 'from_area_id', 'counts' ]"
   ]
  },
  {
   "cell_type": "code",
   "execution_count": 223,
   "metadata": {},
   "outputs": [
    {
     "data": {
      "text/html": [
       "<div>\n",
       "<style scoped>\n",
       "    .dataframe tbody tr th:only-of-type {\n",
       "        vertical-align: middle;\n",
       "    }\n",
       "\n",
       "    .dataframe tbody tr th {\n",
       "        vertical-align: top;\n",
       "    }\n",
       "\n",
       "    .dataframe thead th {\n",
       "        text-align: right;\n",
       "    }\n",
       "</style>\n",
       "<table border=\"1\" class=\"dataframe\">\n",
       "  <thead>\n",
       "    <tr style=\"text-align: right;\">\n",
       "      <th></th>\n",
       "      <th>Car_Cancellation</th>\n",
       "      <th>from_area_id</th>\n",
       "      <th>counts</th>\n",
       "    </tr>\n",
       "  </thead>\n",
       "  <tbody>\n",
       "    <tr>\n",
       "      <th>731</th>\n",
       "      <td>1</td>\n",
       "      <td>571.0</td>\n",
       "      <td>127</td>\n",
       "    </tr>\n",
       "    <tr>\n",
       "      <th>692</th>\n",
       "      <td>1</td>\n",
       "      <td>393.0</td>\n",
       "      <td>116</td>\n",
       "    </tr>\n",
       "    <tr>\n",
       "      <th>672</th>\n",
       "      <td>1</td>\n",
       "      <td>293.0</td>\n",
       "      <td>99</td>\n",
       "    </tr>\n",
       "    <tr>\n",
       "      <th>608</th>\n",
       "      <td>1</td>\n",
       "      <td>83.0</td>\n",
       "      <td>68</td>\n",
       "    </tr>\n",
       "    <tr>\n",
       "      <th>796</th>\n",
       "      <td>1</td>\n",
       "      <td>1010.0</td>\n",
       "      <td>53</td>\n",
       "    </tr>\n",
       "  </tbody>\n",
       "</table>\n",
       "</div>"
      ],
      "text/plain": [
       "     Car_Cancellation  from_area_id  counts\n",
       "731                 1         571.0     127\n",
       "692                 1         393.0     116\n",
       "672                 1         293.0      99\n",
       "608                 1          83.0      68\n",
       "796                 1        1010.0      53"
      ]
     },
     "execution_count": 223,
     "metadata": {},
     "output_type": "execute_result"
    }
   ],
   "source": [
    "#sorting values as needed.\n",
    "df_analysis6_1.sort_values([ 'Car_Cancellation','counts'], ascending=[False, False]).head()"
   ]
  },
  {
   "cell_type": "markdown",
   "metadata": {},
   "source": [
    "### The above table depicts that there were many cancellations from_area_id-571.0 and 393.0. Both the areas record cancellations above 100."
   ]
  },
  {
   "cell_type": "markdown",
   "metadata": {},
   "source": [
    "## CHECKING CANCELLATION ON THE BASIS OF TIME, WEEKDAY,  LOCATION AND FROM_AREA_ID"
   ]
  },
  {
   "cell_type": "code",
   "execution_count": 92,
   "metadata": {},
   "outputs": [],
   "source": [
    "#Creating a dataframe for distinguishing CAR_CANCELLATION, WEEKDAY, HOUR, DUMMY LOC & FROM_AREA_ID from others\n",
    "df_analysis4 = df_final[['id', 'weekday','hour','Car_Cancellation', 'from_area_id' , 'dummy_loc']]"
   ]
  },
  {
   "cell_type": "code",
   "execution_count": 93,
   "metadata": {},
   "outputs": [],
   "source": [
    "#assigning the values in df_analysis4 a Unique ID.\n",
    "df_analysis4_1 = df_analysis4.groupby(['weekday','hour','Car_Cancellation', 'from_area_id', 'dummy_loc'])['id'].count().reset_index()"
   ]
  },
  {
   "cell_type": "code",
   "execution_count": 94,
   "metadata": {},
   "outputs": [],
   "source": [
    "#Assigning column names in the data frame.\n",
    "df_analysis4_1.columns = ['weekday','hour','Car_Cancellation', 'from_area_id', 'dummy_loc' , 'counts' ]"
   ]
  },
  {
   "cell_type": "code",
   "execution_count": 95,
   "metadata": {},
   "outputs": [
    {
     "data": {
      "text/html": [
       "<div>\n",
       "<style scoped>\n",
       "    .dataframe tbody tr th:only-of-type {\n",
       "        vertical-align: middle;\n",
       "    }\n",
       "\n",
       "    .dataframe tbody tr th {\n",
       "        vertical-align: top;\n",
       "    }\n",
       "\n",
       "    .dataframe thead th {\n",
       "        text-align: right;\n",
       "    }\n",
       "</style>\n",
       "<table border=\"1\" class=\"dataframe\">\n",
       "  <thead>\n",
       "    <tr style=\"text-align: right;\">\n",
       "      <th></th>\n",
       "      <th>weekday</th>\n",
       "      <th>hour</th>\n",
       "      <th>Car_Cancellation</th>\n",
       "      <th>from_area_id</th>\n",
       "      <th>dummy_loc</th>\n",
       "      <th>counts</th>\n",
       "    </tr>\n",
       "  </thead>\n",
       "  <tbody>\n",
       "    <tr>\n",
       "      <th>1705</th>\n",
       "      <td>0</td>\n",
       "      <td>12</td>\n",
       "      <td>1</td>\n",
       "      <td>393.0</td>\n",
       "      <td>Loc-462</td>\n",
       "      <td>9</td>\n",
       "    </tr>\n",
       "    <tr>\n",
       "      <th>2999</th>\n",
       "      <td>0</td>\n",
       "      <td>23</td>\n",
       "      <td>1</td>\n",
       "      <td>393.0</td>\n",
       "      <td>Loc-462</td>\n",
       "      <td>8</td>\n",
       "    </tr>\n",
       "    <tr>\n",
       "      <th>22266</th>\n",
       "      <td>6</td>\n",
       "      <td>23</td>\n",
       "      <td>1</td>\n",
       "      <td>393.0</td>\n",
       "      <td>Loc-462</td>\n",
       "      <td>8</td>\n",
       "    </tr>\n",
       "    <tr>\n",
       "      <th>14385</th>\n",
       "      <td>4</td>\n",
       "      <td>17</td>\n",
       "      <td>1</td>\n",
       "      <td>571.0</td>\n",
       "      <td>Loc-168</td>\n",
       "      <td>6</td>\n",
       "    </tr>\n",
       "    <tr>\n",
       "      <th>14604</th>\n",
       "      <td>4</td>\n",
       "      <td>18</td>\n",
       "      <td>1</td>\n",
       "      <td>571.0</td>\n",
       "      <td>Loc-168</td>\n",
       "      <td>6</td>\n",
       "    </tr>\n",
       "  </tbody>\n",
       "</table>\n",
       "</div>"
      ],
      "text/plain": [
       "       weekday  hour  Car_Cancellation  from_area_id dummy_loc  counts\n",
       "1705         0    12                 1         393.0   Loc-462       9\n",
       "2999         0    23                 1         393.0   Loc-462       8\n",
       "22266        6    23                 1         393.0   Loc-462       8\n",
       "14385        4    17                 1         571.0   Loc-168       6\n",
       "14604        4    18                 1         571.0   Loc-168       6"
      ]
     },
     "execution_count": 95,
     "metadata": {},
     "output_type": "execute_result"
    }
   ],
   "source": [
    "#sorting values as needed.\n",
    "df_analysis4_1.sort_values([ 'Car_Cancellation','counts'], ascending=[False, False]).head()"
   ]
  },
  {
   "cell_type": "markdown",
   "metadata": {},
   "source": [
    "### From the above table we get to know that there were many cancellations from_area_id- 393.0 during midnight and then from_area_id-571.0 during the evening."
   ]
  },
  {
   "cell_type": "markdown",
   "metadata": {},
   "source": [
    "## CHECKING CANCELLATION ON THE BASIS OF FROM_AREA_ID & LOCATION"
   ]
  },
  {
   "cell_type": "code",
   "execution_count": 96,
   "metadata": {},
   "outputs": [],
   "source": [
    "#Creating a dataframe for distinguishing CAR_CANCELLATION, DUMMY_LOC & FROM_AREA_ID from others\n",
    "df_analysis5 = df_final[['id', 'Car_Cancellation', 'from_area_id' , 'dummy_loc']]"
   ]
  },
  {
   "cell_type": "code",
   "execution_count": 97,
   "metadata": {},
   "outputs": [],
   "source": [
    "#assigning the values in df_analysis5 a Unique ID.\n",
    "df_analysis5_1 = df_analysis5.groupby(['Car_Cancellation', 'from_area_id', 'dummy_loc'])['id'].count().reset_index()"
   ]
  },
  {
   "cell_type": "code",
   "execution_count": 98,
   "metadata": {},
   "outputs": [],
   "source": [
    "#Assigning column names in the data frame.\n",
    "df_analysis5_1.columns = ['Car_Cancellation', 'from_area_id', 'dummy_loc' , 'counts' ]"
   ]
  },
  {
   "cell_type": "code",
   "execution_count": 99,
   "metadata": {},
   "outputs": [
    {
     "data": {
      "text/html": [
       "<div>\n",
       "<style scoped>\n",
       "    .dataframe tbody tr th:only-of-type {\n",
       "        vertical-align: middle;\n",
       "    }\n",
       "\n",
       "    .dataframe tbody tr th {\n",
       "        vertical-align: top;\n",
       "    }\n",
       "\n",
       "    .dataframe thead th {\n",
       "        text-align: right;\n",
       "    }\n",
       "</style>\n",
       "<table border=\"1\" class=\"dataframe\">\n",
       "  <thead>\n",
       "    <tr style=\"text-align: right;\">\n",
       "      <th></th>\n",
       "      <th>Car_Cancellation</th>\n",
       "      <th>from_area_id</th>\n",
       "      <th>dummy_loc</th>\n",
       "      <th>counts</th>\n",
       "    </tr>\n",
       "  </thead>\n",
       "  <tbody>\n",
       "    <tr>\n",
       "      <th>729</th>\n",
       "      <td>1</td>\n",
       "      <td>571.0</td>\n",
       "      <td>Loc-168</td>\n",
       "      <td>127</td>\n",
       "    </tr>\n",
       "    <tr>\n",
       "      <th>690</th>\n",
       "      <td>1</td>\n",
       "      <td>393.0</td>\n",
       "      <td>Loc-462</td>\n",
       "      <td>116</td>\n",
       "    </tr>\n",
       "    <tr>\n",
       "      <th>670</th>\n",
       "      <td>1</td>\n",
       "      <td>293.0</td>\n",
       "      <td>Loc-15</td>\n",
       "      <td>99</td>\n",
       "    </tr>\n",
       "    <tr>\n",
       "      <th>606</th>\n",
       "      <td>1</td>\n",
       "      <td>83.0</td>\n",
       "      <td>Loc-94</td>\n",
       "      <td>68</td>\n",
       "    </tr>\n",
       "    <tr>\n",
       "      <th>794</th>\n",
       "      <td>1</td>\n",
       "      <td>1010.0</td>\n",
       "      <td>Loc-227</td>\n",
       "      <td>53</td>\n",
       "    </tr>\n",
       "  </tbody>\n",
       "</table>\n",
       "</div>"
      ],
      "text/plain": [
       "     Car_Cancellation  from_area_id dummy_loc  counts\n",
       "729                 1         571.0   Loc-168     127\n",
       "690                 1         393.0   Loc-462     116\n",
       "670                 1         293.0    Loc-15      99\n",
       "606                 1          83.0    Loc-94      68\n",
       "794                 1        1010.0   Loc-227      53"
      ]
     },
     "execution_count": 99,
     "metadata": {},
     "output_type": "execute_result"
    }
   ],
   "source": [
    "#sorting values as needed.\n",
    "df_analysis5_1.sort_values([ 'Car_Cancellation','counts'], ascending=[False, False]).head()"
   ]
  },
  {
   "cell_type": "markdown",
   "metadata": {},
   "source": [
    "### From the above table we get to know that there were many cancellations from_area_id 571.0(Loc-168) and then from_area_id-393(Loc-462)"
   ]
  },
  {
   "cell_type": "markdown",
   "metadata": {},
   "source": [
    "\n",
    "\n",
    "\n",
    "\n",
    "\n",
    "# **RESULTS**\n",
    "\n",
    "\n",
    "## ANALYSIS\n",
    "\n",
    "### 1. It's pretty clear that most cabs are booked on the weekends mainly, Friday and Saturday.\n",
    "\n",
    "### 2. It's pretty clear that cabs are booked in the morning at 8:00,9:00 and in the evening at 17:00,18:00.\n",
    "\n",
    "### 3. Through the Heatmap(Day&Hour) it's clear that cabs are booked at 8:00,9:00 in the morning and 17:00,18:00 in the evening mostly everyday.\n",
    "\n",
    "### 4. We get to know that most cabs were booked was from_area_id- 393.0 on Loc-462(Lat-13.1996 , Long-77.7069) on a Sunday.\n",
    "\n",
    "### 5.  We get to know that most cabs were booked was from_area_id- 393.0 on Loc-462(Lat-13.1996 , Long-77.7069) at 23:00.\n",
    "\n",
    "### 6. Most cabs were booked from_area_id-393.0 at Loc-462(Lat-13.1996 , Long-77.7069) at 23:00 on a Sunday.\n",
    "\n",
    "### 7. We get to know that there were many cancellation from_area_id- 571.0(count-127) and then from_area_id- 393.0(count-116).\n",
    "\n",
    "### 8. We get to know that there were many cancellations from_area_id-393.0 during midnight and then from_area_id-571.0 during the evening.\n",
    "\n",
    "### 9.### WE GET TO KNOW THAT THERE WERE MANY CANCELLATION FROM_AREA_ID- 571.0 (LOC-168) AND THEN FROM_AREA_ID- 393.0 (LOC-462).\n",
    "\n",
    "### 10. We can make out from the heatmap that most cabs in the area_id 393.0 are booked at 23:00 and during office commute hours.\n",
    "\n",
    "### 11. We can make out of the heatmap that most cabs in the area_id 572.0 are booked at 6:00 and during office commute hours.\n",
    "\n",
    "### 12. We can make out of the heatmap that most cabs in the area_id 293.0 are booked during office commute hours.\n",
    "\n",
    "\n",
    "# ADDITIONAL POINTS \n",
    "\n",
    "### 1. More cabs can be deployed in the from_area_id-393.0 and from_area_id-571.0 during rush hours which are usually office hours namely :- 8:00-10:00 and 17:00-18:00 to incentivize the drivers. \n",
    "\n",
    "### 2. A surge could be applied to these areas when cab isn't available even after deploying more cabs to increase business.\n",
    "\n",
    "### 3. There were lot of cancellations from_area_id 571.0(Loc-168) and 393.0(Loc-462) which are also the most grossing zones. The cancellation could be caused by \n",
    "### (i) duration of cab to reach the location may be longer due to unavailability of cabs\n",
    "### (ii) it may be zone which is difficult to reach.\n",
    "### (iii) some of the cancellations happened at midnight, which can reflect security issues.\n",
    "\n",
    "### 4. Revenue can be increased by deploying more cars in rush hours in the areas such as 393.0 and 571.0 which are booking dominant area and hence reduce cost."
   ]
  },
  {
   "cell_type": "code",
   "execution_count": null,
   "metadata": {},
   "outputs": [],
   "source": []
  }
 ],
 "metadata": {
  "kernelspec": {
   "display_name": "Python 3",
   "language": "python",
   "name": "python3"
  },
  "language_info": {
   "codemirror_mode": {
    "name": "ipython",
    "version": 3
   },
   "file_extension": ".py",
   "mimetype": "text/x-python",
   "name": "python",
   "nbconvert_exporter": "python",
   "pygments_lexer": "ipython3",
   "version": "3.6.5"
  }
 },
 "nbformat": 4,
 "nbformat_minor": 2
}
